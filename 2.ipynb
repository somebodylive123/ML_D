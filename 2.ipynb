{
 "cells": [
  {
   "cell_type": "code",
   "execution_count": 7,
   "metadata": {
    "collapsed": true,
    "ExecuteTime": {
     "end_time": "2024-05-20T10:26:55.940709700Z",
     "start_time": "2024-05-20T10:26:55.933008900Z"
    }
   },
   "outputs": [],
   "source": [
    "from transformers import GPT2LMHeadModel, GPT2Tokenizer, Trainer, TrainingArguments\n",
    "import torch\n",
    "import os\n",
    "import html\n",
    "\n",
    "\n",
    "def load_model(model_name = 'sberbank-ai/rugpt3medium_based_on_gpt2', save_path='C:/Users/tbula/PycharmProjects/jup_test/rugpt3'):\n",
    "    try:\n",
    "        if os.path.exists(save_path) and os.listdir(save_path):\n",
    "            print(\"Загрузка модели с локального диска...\")\n",
    "            tokenizer = GPT2Tokenizer.from_pretrained(save_path)\n",
    "            model = GPT2LMHeadModel.from_pretrained(save_path)\n",
    "        else:\n",
    "            print(\"Скачивание модели из интернета...\")\n",
    "            tokenizer = GPT2Tokenizer.from_pretrained(model_name)\n",
    "            model = GPT2LMHeadModel.from_pretrained(model_name)\n",
    "            os.makedirs(save_path, exist_ok=True)\n",
    "            tokenizer.save_pretrained(save_path)\n",
    "            model.save_pretrained(save_path)\n",
    "    except Exception as e:\n",
    "        print(f\"Произошла ошибка при загрузке модели: {e}\")\n",
    "        raise e\n",
    "\n",
    "    return model, tokenizer\n",
    "\n",
    "\n",
    "def generate_text(model, tokenizer, prompt, device, max_new_tokens=200, temperature=0.7, top_k=50, top_p=0.95, num_beams=5, length_penalty=1.0):\n",
    "    try:\n",
    "        inputs = tokenizer(prompt, return_tensors='pt').to(device)\n",
    "        outputs = model.generate(\n",
    "            inputs.input_ids,\n",
    "            max_new_tokens=max_new_tokens,\n",
    "            num_return_sequences=1,\n",
    "            no_repeat_ngram_size=2,\n",
    "            num_beams=num_beams,\n",
    "            length_penalty=length_penalty,\n",
    "            pad_token_id=tokenizer.eos_token_id,\n",
    "            top_k=top_k,\n",
    "            top_p=top_p,\n",
    "            temperature=temperature,\n",
    "            do_sample=True,  # Включаем сэмплирование\n",
    "            early_stopping=True\n",
    "        )\n",
    "        text = tokenizer.decode(outputs[0], skip_special_tokens=True)\n",
    "        text = html.unescape(text)\n",
    "    except Exception as e:\n",
    "        print(f\"Произошла ошибка при генерации текста: {e}\")\n",
    "        raise e\n",
    "    return text\n"
   ]
  },
  {
   "cell_type": "code",
   "execution_count": 2,
   "outputs": [
    {
     "name": "stdout",
     "output_type": "stream",
     "text": [
      "Using device: cuda\n",
      "Загрузка модели с локального диска...\n",
      "привет, как дела?\n",
      "\n",
      "— Нормально, — ответил я. – А у тебя? Как дела с работой? Что-то я не видел тебя с тех пор, когда мы виделись в последний раз. Ты что-нибудь\n"
     ]
    }
   ],
   "source": [
    "if __name__ == \"__main__\":\n",
    "    device = torch.device(\"cuda\" if torch.cuda.is_available() else \"cpu\")\n",
    "    print(f\"Using device: {device}\")\n",
    "\n",
    "    model_name = 'sberbank-ai/rugpt3medium_based_on_gpt2'\n",
    "    save_path = 'C:/Users/tbula/PycharmProjects/jup_test/rugpt3'\n",
    "\n",
    "    model, tokenizer = load_model(model_name, save_path)\n",
    "    model.to(device)\n",
    "\n",
    "    prompt = \"привет\"\n",
    "    response = generate_text(model, tokenizer, prompt, device)\n",
    "    print(response)"
   ],
   "metadata": {
    "collapsed": false,
    "ExecuteTime": {
     "end_time": "2024-05-19T16:31:54.454300500Z",
     "start_time": "2024-05-19T16:31:48.242496400Z"
    }
   }
  },
  {
   "cell_type": "code",
   "execution_count": 3,
   "outputs": [],
   "source": [
    "import requests\n",
    "from bs4 import BeautifulSoup\n",
    "\n",
    "# Функция для извлечения ссылок со страницы\n",
    "def extract_links(url):\n",
    "    response = requests.get(url)\n",
    "    soup = BeautifulSoup(response.content, 'html.parser')\n",
    "    links = [a['href'] for a in soup.find_all('a', href=True) if a['href'] and not a['href'].startswith('#')]\n",
    "    return links\n",
    "\n",
    "# Функция для извлечения текста с каждой страницы\n",
    "def extract_text(url):\n",
    "    response = requests.get(url)\n",
    "    response.encoding = response.apparent_encoding  # Установим правильную кодировку\n",
    "    soup = BeautifulSoup(response.text, 'html.parser')\n",
    "    paragraphs = soup.find_all('p')\n",
    "    text = ' '.join([para.get_text() for para in paragraphs])\n",
    "    return text"
   ],
   "metadata": {
    "collapsed": false,
    "ExecuteTime": {
     "end_time": "2024-05-19T16:31:58.064020Z",
     "start_time": "2024-05-19T16:31:57.997885900Z"
    }
   }
  },
  {
   "cell_type": "code",
   "execution_count": 4,
   "outputs": [
    {
     "name": "stdout",
     "output_type": "stream",
     "text": [
      "Данные собраны и сохранены.\n"
     ]
    }
   ],
   "source": [
    "main_url = \"https://helpdesk.bitrix24.ru/open/19070944/\"\n",
    "file_path = 'C:/Users/tbula/PycharmProjects/jup_test/bitrix_articles.txt'\n",
    "\n",
    "if os.path.exists(file_path):\n",
    "    print(\"Файл уже сохранен.\")\n",
    "else:\n",
    "    article_links = extract_links(main_url)\n",
    "    all_texts = []\n",
    "\n",
    "    for link in article_links:\n",
    "        if link.startswith('/'):\n",
    "            link = \"https://helpdesk.bitrix24.ru\" + link\n",
    "        elif not link.startswith('http'):\n",
    "            continue  # Пропуск ссылок без схемы\n",
    "        text = extract_text(link)\n",
    "        all_texts.append(text)\n",
    "\n",
    "    # Сохранение данных в файл\n",
    "    os.makedirs(os.path.dirname(file_path), exist_ok=True)\n",
    "    with open(file_path, 'w', encoding='utf-8') as file:\n",
    "        for text in all_texts:\n",
    "            file.write(text + '\\n')\n",
    "\n",
    "    print(\"Данные собраны и сохранены.\")"
   ],
   "metadata": {
    "collapsed": false,
    "ExecuteTime": {
     "end_time": "2024-05-19T16:32:46.145988400Z",
     "start_time": "2024-05-19T16:31:59.686552700Z"
    }
   }
  },
  {
   "cell_type": "code",
   "execution_count": 5,
   "outputs": [
    {
     "name": "stdout",
     "output_type": "stream",
     "text": [
      "Using device: cuda\n"
     ]
    },
    {
     "data": {
      "text/plain": "Generating train split: 0 examples [00:00, ? examples/s]",
      "application/vnd.jupyter.widget-view+json": {
       "version_major": 2,
       "version_minor": 0,
       "model_id": "a97cb3c6d9314a7b8f4bb759f75ea120"
      }
     },
     "metadata": {},
     "output_type": "display_data"
    }
   ],
   "source": [
    "from datasets import load_dataset\n",
    "print(f\"Using device: {device}\")\n",
    "dataset_path = 'C:/Users/tbula/PycharmProjects/jup_test/bitrix_articles.txt'\n",
    "data = load_dataset('text', data_files=dataset_path)"
   ],
   "metadata": {
    "collapsed": false,
    "ExecuteTime": {
     "end_time": "2024-05-19T16:33:05.995008800Z",
     "start_time": "2024-05-19T16:33:05.081555400Z"
    }
   }
  },
  {
   "cell_type": "code",
   "execution_count": 6,
   "outputs": [
    {
     "data": {
      "text/plain": "Map:   0%|          | 0/2900 [00:00<?, ? examples/s]",
      "application/vnd.jupyter.widget-view+json": {
       "version_major": 2,
       "version_minor": 0,
       "model_id": "ebda51698d9341f9bfc109eb57cca4ee"
      }
     },
     "metadata": {},
     "output_type": "display_data"
    }
   ],
   "source": [
    "# Функция токенизации\n",
    "def tokenize_function(examples):\n",
    "    return tokenizer(examples['text'], padding='max_length', truncation=True, max_length=128)  # Изменен max_length на 128\n",
    "\n",
    "tokenized_data = data.map(tokenize_function, batched=True, remove_columns=[\"text\"])"
   ],
   "metadata": {
    "collapsed": false,
    "ExecuteTime": {
     "end_time": "2024-05-19T16:33:11.341114Z",
     "start_time": "2024-05-19T16:33:09.479160300Z"
    }
   }
  },
  {
   "cell_type": "code",
   "execution_count": 7,
   "outputs": [
    {
     "data": {
      "text/plain": "Map:   0%|          | 0/2900 [00:00<?, ? examples/s]",
      "application/vnd.jupyter.widget-view+json": {
       "version_major": 2,
       "version_minor": 0,
       "model_id": "c686657098ef44c59d10225c14665995"
      }
     },
     "metadata": {},
     "output_type": "display_data"
    }
   ],
   "source": [
    "# Группировка текстов для создания меток\n",
    "def group_texts(examples):\n",
    "    block_size = 128  # Изменен block_size на 128\n",
    "    concatenated_examples = {k: sum(examples[k], []) for k in examples.keys()}\n",
    "    total_length = len(concatenated_examples[list(examples.keys())[0]])\n",
    "    total_length = (total_length // block_size) * block_size\n",
    "    result = {\n",
    "        k: [t[i : i + block_size] for i in range(0, total_length, block_size)]\n",
    "        for k, t in concatenated_examples.items()\n",
    "    }\n",
    "    result[\"labels\"] = result[\"input_ids\"].copy()\n",
    "    return result\n",
    "\n",
    "lm_datasets = tokenized_data.map(group_texts, batched=True)\n",
    "model.config.use_cache = False"
   ],
   "metadata": {
    "collapsed": false,
    "ExecuteTime": {
     "end_time": "2024-05-19T16:33:15.240315500Z",
     "start_time": "2024-05-19T16:33:13.606096300Z"
    }
   }
  },
  {
   "cell_type": "code",
   "execution_count": 8,
   "outputs": [
    {
     "name": "stdout",
     "output_type": "stream",
     "text": [
      "PyTorch version:  2.3.0+cu121\n",
      "CUDA Available:  True\n",
      "Number of GPUs:  1\n",
      "GPU Name:  NVIDIA GeForce RTX 3050 Ti Laptop GPU\n"
     ]
    }
   ],
   "source": [
    "import torch\n",
    "\n",
    "print(\"PyTorch version: \", torch.__version__)\n",
    "print(\"CUDA Available: \", torch.cuda.is_available())\n",
    "print(\"Number of GPUs: \", torch.cuda.device_count())\n",
    "\n",
    "if torch.cuda.is_available():\n",
    "    print(\"GPU Name: \", torch.cuda.get_device_name(0))\n",
    "else:\n",
    "    print(\"No GPU available\")"
   ],
   "metadata": {
    "collapsed": false,
    "ExecuteTime": {
     "end_time": "2024-05-19T16:33:19.396363700Z",
     "start_time": "2024-05-19T16:33:19.376133400Z"
    }
   }
  },
  {
   "cell_type": "code",
   "execution_count": 9,
   "outputs": [
    {
     "name": "stdout",
     "output_type": "stream",
     "text": [
      "Memory Summary before training:\n",
      "|===========================================================================|\n",
      "|                  PyTorch CUDA memory summary, device ID 0                 |\n",
      "|---------------------------------------------------------------------------|\n",
      "|            CUDA OOMs: 0            |        cudaMalloc retries: 0         |\n",
      "|===========================================================================|\n",
      "|        Metric         | Cur Usage  | Peak Usage | Tot Alloc  | Tot Freed  |\n",
      "|---------------------------------------------------------------------------|\n",
      "| Allocated memory      |   1461 MiB |   1607 MiB |   6238 MiB |   4776 MiB |\n",
      "|       from large pool |   1460 MiB |   1471 MiB |   1900 MiB |    439 MiB |\n",
      "|       from small pool |      1 MiB |    146 MiB |   4337 MiB |   4336 MiB |\n",
      "|---------------------------------------------------------------------------|\n",
      "| Active memory         |   1461 MiB |   1607 MiB |   6238 MiB |   4776 MiB |\n",
      "|       from large pool |   1460 MiB |   1471 MiB |   1900 MiB |    439 MiB |\n",
      "|       from small pool |      1 MiB |    146 MiB |   4337 MiB |   4336 MiB |\n",
      "|---------------------------------------------------------------------------|\n",
      "| Requested memory      |   1461 MiB |   1607 MiB |   6229 MiB |   4767 MiB |\n",
      "|       from large pool |   1460 MiB |   1471 MiB |   1898 MiB |    437 MiB |\n",
      "|       from small pool |      1 MiB |    146 MiB |   4331 MiB |   4330 MiB |\n",
      "|---------------------------------------------------------------------------|\n",
      "| GPU reserved memory   |   1468 MiB |   1640 MiB |   1640 MiB | 176128 KiB |\n",
      "|       from large pool |   1466 MiB |   1486 MiB |   1486 MiB |  20480 KiB |\n",
      "|       from small pool |      2 MiB |    154 MiB |    154 MiB | 155648 KiB |\n",
      "|---------------------------------------------------------------------------|\n",
      "| Non-releasable memory |   6472 KiB |  55773 KiB |   6688 MiB |   6682 MiB |\n",
      "|       from large pool |   5692 KiB |  20240 KiB |   1645 MiB |   1640 MiB |\n",
      "|       from small pool |    780 KiB |  50081 KiB |   5042 MiB |   5042 MiB |\n",
      "|---------------------------------------------------------------------------|\n",
      "| Allocations           |     341    |     515    |   45334    |   44993    |\n",
      "|       from large pool |     123    |     128    |     324    |     201    |\n",
      "|       from small pool |     218    |     392    |   45010    |   44792    |\n",
      "|---------------------------------------------------------------------------|\n",
      "| Active allocs         |     341    |     515    |   45334    |   44993    |\n",
      "|       from large pool |     123    |     128    |     324    |     201    |\n",
      "|       from small pool |     218    |     392    |   45010    |   44792    |\n",
      "|---------------------------------------------------------------------------|\n",
      "| GPU reserved segments |      75    |     152    |     152    |      77    |\n",
      "|       from large pool |      74    |      75    |      75    |       1    |\n",
      "|       from small pool |       1    |      77    |      77    |      76    |\n",
      "|---------------------------------------------------------------------------|\n",
      "| Non-releasable allocs |       3    |      89    |   17355    |   17352    |\n",
      "|       from large pool |       2    |       2    |     126    |     124    |\n",
      "|       from small pool |       1    |      87    |   17229    |   17228    |\n",
      "|---------------------------------------------------------------------------|\n",
      "| Oversize allocations  |       0    |       0    |       0    |       0    |\n",
      "|---------------------------------------------------------------------------|\n",
      "| Oversize GPU segments |       0    |       0    |       0    |       0    |\n",
      "|===========================================================================|\n",
      "\n"
     ]
    }
   ],
   "source": [
    "import gc\n",
    "# Очистка памяти перед тренировкой\n",
    "# Очистка памяти перед тренировкой\n",
    "gc.collect()\n",
    "torch.cuda.empty_cache()\n",
    "\n",
    "# Вывод сводки использования памяти до тренировки\n",
    "print(\"Memory Summary before training:\")\n",
    "print(torch.cuda.memory_summary(device=device, abbreviated=False))"
   ],
   "metadata": {
    "collapsed": false,
    "ExecuteTime": {
     "end_time": "2024-05-19T16:33:22.229413100Z",
     "start_time": "2024-05-19T16:33:22.103232100Z"
    }
   }
  },
  {
   "cell_type": "code",
   "execution_count": 10,
   "outputs": [
    {
     "name": "stderr",
     "output_type": "stream",
     "text": [
      "C:\\Users\\tbula\\PycharmProjects\\jup_test\\venv\\Lib\\site-packages\\torch\\utils\\checkpoint.py:464: UserWarning: torch.utils.checkpoint: the use_reentrant parameter should be passed explicitly. In version 2.4 we will raise an exception if use_reentrant is not passed. use_reentrant=False is recommended, but if you need to preserve the current default behavior, you can pass use_reentrant=True. Refer to docs for more details on the differences between the two variants.\n",
      "  warnings.warn(\n"
     ]
    },
    {
     "data": {
      "text/plain": "<IPython.core.display.HTML object>",
      "text/html": "\n    <div>\n      \n      <progress value='2' max='8700' style='width:300px; height:20px; vertical-align: middle;'></progress>\n      [   2/8700 : < :, Epoch 0.00/3]\n    </div>\n    <table border=\"1\" class=\"dataframe\">\n  <thead>\n <tr style=\"text-align: left;\">\n      <th>Step</th>\n      <th>Training Loss</th>\n      <th>Validation Loss</th>\n    </tr>\n  </thead>\n  <tbody>\n  </tbody>\n</table><p>"
     },
     "metadata": {},
     "output_type": "display_data"
    },
    {
     "name": "stdout",
     "output_type": "stream",
     "text": [
      "Модель дообучена и сохранена.\n"
     ]
    }
   ],
   "source": [
    "# Параметры тренировки\n",
    "training_args = TrainingArguments(\n",
    "    output_dir='C:/Users/tbula/PycharmProjects/jup_test/rugpt3_finetuned',\n",
    "    overwrite_output_dir=True,\n",
    "    num_train_epochs=3,\n",
    "    per_device_train_batch_size=1,  # Уменьшенный размер батча\n",
    "    gradient_accumulation_steps=1,  # Уменьшение аккумуляции градиентов\n",
    "    save_steps=10_000,\n",
    "    save_total_limit=2,\n",
    "    learning_rate=5e-5,\n",
    "    warmup_steps=500,\n",
    "    weight_decay=0.01,\n",
    "    logging_steps=500,\n",
    "    evaluation_strategy=\"steps\",\n",
    "    eval_steps=1000,  # Частота оценки модели\n",
    "    fp16=True,  # Использование смешанной точности, если поддерживается\n",
    "    gradient_checkpointing=True,  # Включение градиентного контрольного пункта\n",
    ")\n",
    "\n",
    "torch.utils.checkpoint.use_reentrant = False\n",
    "\n",
    "# Тренировка модели\n",
    "trainer = Trainer(\n",
    "    model=model,\n",
    "    args=training_args,\n",
    "    train_dataset=lm_datasets['train'],\n",
    "    eval_dataset=lm_datasets['train'],  # Можно использовать валидационный набор, если доступен\n",
    ")\n",
    "\n",
    "trainer.train()\n",
    "\n",
    "model.save_pretrained('C:/Users/tbula/PycharmProjects/jup_test/rugpt3_finetuned')\n",
    "tokenizer.save_pretrained('C:/Users/tbula/PycharmProjects/jup_test/rugpt3_finetuned')\n",
    "\n",
    "print(\"Модель дообучена и сохранена.\")"
   ],
   "metadata": {
    "collapsed": false,
    "ExecuteTime": {
     "end_time": "2024-05-20T01:24:55.051512700Z",
     "start_time": "2024-05-19T16:33:24.420426100Z"
    }
   }
  },
  {
   "cell_type": "code",
   "execution_count": 10,
   "outputs": [
    {
     "name": "stdout",
     "output_type": "stream",
     "text": [
      "Using device: cuda\n",
      "Загрузка модели с локального диска...\n",
      "как удалить базу знаний?\n",
      "Панель управления\\Программы и компоненты\\Дополнительно\\Установка и удаление программ.\n",
      "\n",
      "Подскажите, пожалуйста, что это за порода собаки? (фото внутри)\n",
      "двортерьер\n",
      "Дворняга\n",
      "Беспородная дворняжка, но очень красивая\n",
      "беспородный щенок, скорее всего метис овчарки и лабрадора\n",
      "Метис лабрикса и двортерьера. Очень милая собачка!\n",
      "Лабрадор-ретривер, очень милая и добрая собака. Лабрадору не место в квартире, он должен жить в вольере или на выгуле, а не на улице. Дворняжки не могут уживаться с кошками и другими домашними животными, поэтому их надо выгуливать на поводке и в наморднике, чтобы они не кусались и не царапались. Если вы хотите завести собаку этой породы, то вам нужно будет найти хорошего заводчика, который сможет вырастить\n"
     ]
    }
   ],
   "source": [
    "if __name__ == \"__main__\":\n",
    "    device = torch.device(\"cuda\" if torch.cuda.is_available() else \"cpu\")\n",
    "    print(f\"Using device: {device}\")\n",
    "\n",
    "    save_path = 'C:/Users/tbula/PycharmProjects/jup_test/rugpt3_finetuned'\n",
    "\n",
    "    model, tokenizer = load_model(save_path)\n",
    "    model.to(device)\n",
    "\n",
    "    prompt = \"как удалить базу знаний\"\n",
    "    response = generate_text(model, tokenizer, prompt, device)\n",
    "    print(response)"
   ],
   "metadata": {
    "collapsed": false,
    "ExecuteTime": {
     "end_time": "2024-05-20T10:31:36.092715800Z",
     "start_time": "2024-05-20T10:31:28.923445400Z"
    }
   }
  },
  {
   "cell_type": "code",
   "execution_count": 12,
   "outputs": [
    {
     "name": "stdout",
     "output_type": "stream",
     "text": [
      "Датасет успешно сохранён в файл bitrix24_helpdesk_data.csv\n"
     ]
    }
   ],
   "source": [
    "import requests\n",
    "from bs4 import BeautifulSoup\n",
    "import pandas as pd\n",
    "from urllib.parse import urljoin, urlparse\n",
    "\n",
    "# URL сайта, который нужно парсить\n",
    "base_url = 'https://helpdesk.bitrix24.ru/'\n",
    "\n",
    "# Получение HTML-контента\n",
    "response = requests.get(base_url)\n",
    "soup = BeautifulSoup(response.content, 'html.parser')\n",
    "\n",
    "# Функция для проверки валидности URL\n",
    "def is_valid_url(url):\n",
    "    parsed = urlparse(url)\n",
    "    return bool(parsed.netloc) and bool(parsed.scheme)\n",
    "\n",
    "# Функция для получения текста из всех ссылок на странице\n",
    "def get_text_from_links(soup, base_url):\n",
    "    links = soup.find_all('a', href=True)\n",
    "    data = []\n",
    "    for link in links:\n",
    "        link_text = link.get_text(strip=True)\n",
    "        link_url = urljoin(base_url, link['href'])\n",
    "        if not is_valid_url(link_url):\n",
    "            continue\n",
    "        try:\n",
    "            link_response = requests.get(link_url)\n",
    "            link_soup = BeautifulSoup(link_response.content, 'html.parser')\n",
    "            page_text = link_soup.get_text(separator=' ', strip=True)\n",
    "            data.append({'link_text': link_text, 'link_url': link_url, 'page_text': page_text})\n",
    "        except Exception as e:\n",
    "            print(f\"Не удалось получить данные с {link_url}: {e}\")\n",
    "    return data\n",
    "\n",
    "# Получение текста из всех ссылок на главной странице\n",
    "data = get_text_from_links(soup, base_url)\n",
    "\n",
    "# Создание DataFrame и сохранение в CSV файл\n",
    "df = pd.DataFrame(data)\n",
    "df.to_csv('bitrix24_helpdesk_data.csv', index=False)\n",
    "\n",
    "print('Датасет успешно сохранён в файл bitrix24_helpdesk_data.csv')"
   ],
   "metadata": {
    "collapsed": false,
    "ExecuteTime": {
     "end_time": "2024-05-20T10:36:40.233400Z",
     "start_time": "2024-05-20T10:35:58.493405700Z"
    }
   }
  },
  {
   "cell_type": "code",
   "execution_count": null,
   "outputs": [],
   "source": [],
   "metadata": {
    "collapsed": false
   }
  }
 ],
 "metadata": {
  "kernelspec": {
   "display_name": "Python 3",
   "language": "python",
   "name": "python3"
  },
  "language_info": {
   "codemirror_mode": {
    "name": "ipython",
    "version": 2
   },
   "file_extension": ".py",
   "mimetype": "text/x-python",
   "name": "python",
   "nbconvert_exporter": "python",
   "pygments_lexer": "ipython2",
   "version": "2.7.6"
  }
 },
 "nbformat": 4,
 "nbformat_minor": 0
}
